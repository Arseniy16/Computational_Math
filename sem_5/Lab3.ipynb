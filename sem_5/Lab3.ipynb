{
  "nbformat": 4,
  "nbformat_minor": 0,
  "metadata": {
    "colab": {
      "provenance": [],
      "authorship_tag": "ABX9TyNh5q4EXceRrh7oiUXcQIh3",
      "include_colab_link": true
    },
    "kernelspec": {
      "name": "python3",
      "display_name": "Python 3"
    },
    "language_info": {
      "name": "python"
    }
  },
  "cells": [
    {
      "cell_type": "markdown",
      "metadata": {
        "id": "view-in-github",
        "colab_type": "text"
      },
      "source": [
        "<a href=\"https://colab.research.google.com/github/Arseniy16/Computational_Math/blob/main/Lab3.ipynb\" target=\"_parent\"><img src=\"https://colab.research.google.com/assets/colab-badge.svg\" alt=\"Open In Colab\"/></a>"
      ]
    },
    {
      "cell_type": "markdown",
      "source": [
        "# Лабораторная работа 3\n",
        "### *Решение нелинейных уравнений вида f(x) = 0*\n",
        "\n",
        "---\n",
        "\n",
        "1. Реализовать метод деления отрезка пополам.\n",
        "2. Реализовать методы секущих и Ньютона. Предусмотреть\n",
        "оценку кратности корня.\n",
        "3. Реализовать метод Ньютона для системы нелинейных уравнений.\n",
        "При решении возникающих линейных систем воспользоваться результатами лабораторной работы 2\n"
      ],
      "metadata": {
        "id": "rhNguXsYE3SY"
      }
    },
    {
      "cell_type": "markdown",
      "source": [
        "### Метод деления отрезка пополам:\n",
        "\n",
        "Алгоритм основан на следующем следствии из теоремы Больцано — Коши:\n",
        "\n",
        "Пусть непрерывная функция ${\\displaystyle f(x)\\in \\mathrm {C} ([a,\\;b])}$, тогда, если ${\\displaystyle sign(f(a))\\neq sign(f(b))}$, то ${\\displaystyle \\exists c\\in [a,\\;b]:\\;f(c)=0}$\n",
        "\n",
        "---\n",
        "\n",
        "\n",
        "\n",
        "### Метод секущих:\n",
        "\n",
        "Для нахождения численного решения уравнения ${\\displaystyle f(x)=0}$ метод секущих задается следующим реккурентным соотношением:\n",
        "\n",
        "$$\n",
        "    x_n = x_{n-1} - f(x_{n-1}) \\dfrac{x_{n-1} - x_{n-2}}{f(x_{n-1}) - f(x_{n-2})}\n",
        "$$\n",
        "\n",
        "Из формулы видно, что необходимо два начальных значения $x_0$ и $x_1$ (желательно выбирать ближе к нулю)\n",
        "\n",
        "---\n",
        "\n",
        "\n",
        "### Метод Ньютона для решения нелинейных уравнений\n",
        "\n",
        "Алгоритм нахождения численного решения уравнения ${\\displaystyle f(x)=0}$ сводится к итерационной процедуре вычисления:\n",
        "\n",
        "$$\n",
        "    x_{n+1} = x_n - \\dfrac{f(x_n)}{f'(x_n)}\n",
        "$$\n",
        "\n",
        "Для оценки кратности корня, можно воспользоваться следующей формулой:\n",
        "\n",
        "$$\n",
        "    q_n = \\dfrac{x_{n+1} - x_n}{x_n - x_{n-1}},\\; p_n = \\dfrac{1}{1 - q_n} \n",
        "$$\n",
        "\n",
        "Если $p_n \\rightarrow p $, где $p \\in \\mathbb{Z}$, то это будет искомая кратность корня.\n",
        "\n",
        "---\n",
        "\n",
        "### Метод Ньютона для решения системы нелинейных уравнений\n",
        "\n",
        "Пусть дана система из $n$ нелинейных уравнений:\n",
        "\n",
        "\\begin{equation*} \n",
        " \\begin{cases}\n",
        "   f_1(x_1, \\;...,\\; x_n ) = 0,\\\\\n",
        "   f_2(x_1, \\;...,\\; x_n ) = 0,\\\\\n",
        "   \\vdots \\\\\n",
        "   f_n(x_1, \\;...,\\; x_n ) = 0\n",
        " \\end{cases}\n",
        " \\\\\n",
        " F(x) = [f_1(x),\\; f_2(x),\\; \\dots,\\; f_n(x)]^T\n",
        "\\end{equation*}\n",
        "\n",
        "Формула для нахождения решения уравнения:\n",
        "\n",
        "$$\n",
        "    x^{(k+1)} = x^{(k)} - W^{-1}(x^{(k)}) \\cdot F(x^{(k)}) \n",
        "$$\n",
        "\n",
        "Для этого, вначале можно решить систему линейных уравнений относительно $\\Delta x^{(k)}$:\n",
        "\n",
        "$$\n",
        "    W(x^{(k)}) \\cdot \\Delta x^{(k)} = -F(x^{(k)})    \n",
        "$$\n",
        "\n",
        "А затем получим: $x^{(k+1)} = x^{(k)} + \\Delta x^{(k)}$ \n",
        "\n",
        "\n",
        "---\n",
        "\n"
      ],
      "metadata": {
        "id": "nJZI_fZ0qXZY"
      }
    },
    {
      "cell_type": "markdown",
      "source": [
        "Рассмотрим уравнение вида: $(x-2)^3 = 0$\n",
        "\n",
        "Найдем решения и оценим кратность корня"
      ],
      "metadata": {
        "id": "N5yhCtxnTvHY"
      }
    },
    {
      "cell_type": "code",
      "execution_count": null,
      "metadata": {
        "id": "Gc87qku1EsJv"
      },
      "outputs": [],
      "source": [
        "import math\n",
        "\n",
        "# func =  lambda x: 2 * x ** 3 - 3 * x ** 2 - 12 * x - 3\n",
        "# func_diff = lambda x: 6 * x ** 2 - 6 * x - 12\n",
        "\n",
        "func = lambda x: (x-2) ** 3\n",
        "func_diff = lambda x: 3*(x-2) ** 2\n",
        "\n",
        "a1, b1 = 0.0, 10.0\n",
        "\n",
        "eps = 0.001\n",
        "\n",
        "# метод деления отрезка пополам\n",
        "def method_half_divide(a, b, eps, f):\n",
        "    \n",
        "    numIters = 0\n",
        "    x = (a + b) / 2\n",
        "\n",
        "    while math.fabs(f(x)) >= eps:\n",
        "        x = (a + b) / 2\n",
        "        a, b = (a, x) if f(a) * f(x) < 0 else (x, b)\n",
        "        numIters += 1\n",
        "\n",
        "    print('Кол-во итераций:', numIters)\n",
        "\n",
        "    return (a + b) / 2\n",
        "\n",
        "# метод секущих\n",
        "def method_secant(x0, x1, eps, f):\n",
        "    \n",
        "    numIters = 0\n",
        "\n",
        "    while math.fabs(f(x1)) >= eps :\n",
        "        # temp = x0\n",
        "        x2 = x1 - f(x1) * (x1 - x0) / float(f(x1) - f(x0))\n",
        "        x0, x1 = x1, x2\n",
        "        numIters += 1\n",
        "\n",
        "    print('Кол-во итераций:', numIters)\n",
        "\n",
        "    return x1\n",
        "\n",
        "# метод ньютона\n",
        "def method_newton(a, b, eps, f, df):\n",
        "\n",
        "    numIters = 0\n",
        "\n",
        "    x0 = (a + b) / 2\n",
        "    x1 = x0 - (f(x0) / df(x0))\n",
        "\n",
        "    while math.fabs(x1 - x0) >= eps:\n",
        "        temp = x0\n",
        "        x0 = x1\n",
        "        x1 = x0 - (f(x0) / df(x0))\n",
        "        numIters += 1\n",
        "        \n",
        "    q = (x1 - x0) / float(x0 - temp)\n",
        "    p = 1 / float(1 - q) # кратность корня \n",
        "\n",
        "    print('Кол-во итераций:', numIters)\n",
        "    print('Кратность корня = ', p )\n",
        "\n",
        "    return x1\n"
      ]
    },
    {
      "cell_type": "code",
      "source": [
        "import matplotlib.pyplot as plt\n",
        "import numpy as np\n",
        "\n",
        "xmin = -10.0\n",
        "xmax =  10.0\n",
        "dx = 0.1\n",
        "\n",
        "xlist = np.arange(xmin, xmax, dx)\n",
        "# xlist = np.linspace(xmin, xmax, dx)\n",
        "\n",
        "plt.plot(xlist, func(xlist))\n",
        "plt.grid()"
      ],
      "metadata": {
        "colab": {
          "base_uri": "https://localhost:8080/",
          "height": 265
        },
        "id": "t8PaZW9nP_4k",
        "outputId": "e7176b59-cd59-445d-aade-4ddafb3e6353"
      },
      "execution_count": null,
      "outputs": [
        {
          "output_type": "display_data",
          "data": {
            "text/plain": [
              "<Figure size 432x288 with 1 Axes>"
            ],
            "image/png": "[encoded data removed]"
          },
          "metadata": {
            "needs_background": "light"
          }
        }
      ]
    },
    {
      "cell_type": "code",
      "source": [
        "# метод деления отрезка пополам\n",
        "root_half_divide = method_half_divide(a1, b1, eps, func)\n",
        "print('\\nМетод деления отрезка пополам\\nКорень уравнения:', root_half_divide)\n"
      ],
      "metadata": {
        "colab": {
          "base_uri": "https://localhost:8080/"
        },
        "id": "k2KT-iVFGBl1",
        "outputId": "cf238729-0570-44d5-9020-9f8f0512901c"
      },
      "execution_count": null,
      "outputs": [
        {
          "output_type": "stream",
          "name": "stdout",
          "text": [
            "Кол-во итераций: 6\n",
            "\n",
            "Метод деления отрезка пополам\n",
            "Корень уравнения: 1.953125\n"
          ]
        }
      ]
    },
    {
      "cell_type": "code",
      "source": [
        "# метод секущих\n",
        "root_secant = method_secant(1, 4, eps, func)\n",
        "print('\\nМетод секущих\\nКорень уравнения:', root_secant)"
      ],
      "metadata": {
        "colab": {
          "base_uri": "https://localhost:8080/"
        },
        "id": "LoR7YNiXGIhR",
        "outputId": "5da15dfa-07eb-4bde-bc24-a1def18069ed"
      },
      "execution_count": null,
      "outputs": [
        {
          "output_type": "stream",
          "name": "stdout",
          "text": [
            "Кол-во итераций: 9\n",
            "\n",
            "Метод секущих\n",
            "Корень уравнения: 1.9231693782655974\n"
          ]
        }
      ]
    },
    {
      "cell_type": "code",
      "source": [
        "# метод Ньютона\n",
        "root_newton = method_newton(-1, 4, eps, func, func_diff)\n",
        "print('\\nМетод Ньютона\\nКорень уравнения:', root_newton)"
      ],
      "metadata": {
        "colab": {
          "base_uri": "https://localhost:8080/"
        },
        "id": "Ci8T8WnraW7M",
        "outputId": "21ff2bc1-d9fd-4089-ec47-daa01d993075"
      },
      "execution_count": null,
      "outputs": [
        {
          "output_type": "stream",
          "name": "stdout",
          "text": [
            "Кол-во итераций: 13\n",
            "Кратность корня =  2.9999999999999996\n",
            "\n",
            "Метод Ньютона\n",
            "Корень уравнения: 1.9982872563046092\n"
          ]
        }
      ]
    },
    {
      "cell_type": "code",
      "source": [
        "from numpy import linalg\n",
        "\n",
        "N = 5\n",
        "\n",
        "def func_new(x):\n",
        "    f = np.zeros([N])\n",
        "\n",
        "    for i in range(1, N - 1, 1):\n",
        "\n",
        "        f[i] = (3 + 2 * x[i]) * x[i] - x[i-1] - 2 * x[i+1] - 2\n",
        "\n",
        "    f[0] = (3 + 2 * x[0] ) * x[0] - 2 * x[1] - 3\n",
        "    f[N-1] = (3 + 2*x[N-1] )*x[N-1] - x[N-2] - 4\n",
        "\n",
        "    return f\n",
        "\n",
        "# вычисление якобиана\n",
        "def jacobian(f, x):\n",
        "    h = 1.0e-4\n",
        "    n = len(x)\n",
        "    Jac = np.zeros([n,n])\n",
        "    f0 = f(x)\n",
        "\n",
        "    for i in range(0, n, 1):\n",
        "        tt = x[i]\n",
        "        x[i] = tt + h\n",
        "        f1= f(x)\n",
        "        x[i] = tt\n",
        "        Jac [:,i] = (f1 - f0)/h\n",
        "    return Jac, f0\n",
        "\n",
        "# метод Ньютона для СНАУ\n",
        "def newton(f, x, eps=1.0e-9):\n",
        "    numIters = 0\n",
        "    \n",
        "    while True:\n",
        "        Jac, f0 = jacobian(f, x) \n",
        "        if math.sqrt(np.dot(f0, f0) / len(x)) < eps: return x, numIters\n",
        "\n",
        "        dx = linalg.solve(Jac, f0)\n",
        "        x = x - dx\n",
        "        numIters += 1\n"
      ],
      "metadata": {
        "id": "PLsVSexBHf_j"
      },
      "execution_count": null,
      "outputs": []
    },
    {
      "cell_type": "code",
      "source": [
        "# метод Ньютона для системы нелинейных алгебраичеких уравнений\n",
        "\n",
        "x0 = np.zeros([N]) #начальные значения x\n",
        "x, iter = newton(func_new, x0)\n",
        "\n",
        "print ('Кол-во итераций:', iter)\n",
        "print ('\\nМетод Ньютона для СНАУ\\nРешение:', x)\n"
      ],
      "metadata": {
        "colab": {
          "base_uri": "https://localhost:8080/"
        },
        "id": "fy_RhV25C0Nr",
        "outputId": "6a4b2e89-18ce-4aaa-94e3-add521b0cd84"
      },
      "execution_count": null,
      "outputs": [
        {
          "output_type": "stream",
          "name": "stdout",
          "text": [
            "Кол-во итераций: 8\n",
            "\n",
            "Метод Ньютона для СНАУ\n",
            "Решение: [1. 1. 1. 1. 1.]\n"
          ]
        }
      ]
    },
    {
      "cell_type": "code",
      "source": [],
      "metadata": {
        "id": "NadVVH43OHDe"
      },
      "execution_count": null,
      "outputs": []
    }
  ]
}