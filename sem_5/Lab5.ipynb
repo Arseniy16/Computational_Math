{
  "nbformat": 4,
  "nbformat_minor": 0,
  "metadata": {
    "colab": {
      "provenance": [],
      "include_colab_link": true
    },
    "kernelspec": {
      "name": "python3",
      "display_name": "Python 3"
    },
    "language_info": {
      "name": "python"
    }
  },
  "cells": [
    {
      "cell_type": "markdown",
      "metadata": {
        "id": "view-in-github",
        "colab_type": "text"
      },
      "source": [
        "<a href=\"https://colab.research.google.com/github/Arseniy16/Computational_Math/blob/main/Lab5.ipynb\" target=\"_parent\"><img src=\"https://colab.research.google.com/assets/colab-badge.svg\" alt=\"Open In Colab\"/></a>"
      ]
    },
    {
      "cell_type": "markdown",
      "source": [
        "# Лабораторная работа 5\n",
        "### *Численное интегрирование*\n",
        "\n",
        "---\n",
        "\n",
        "Написать программу для численного интегрирования фунции, заданной: a) точно, b) таблично. Исследовать точность реализованных методов.\n",
        "\n",
        "1. Реализовать методы прямоугольников, трапеций.\n",
        "\n",
        "2. Реализовать метод Симпсона.\n",
        "\n",
        "3. Реализовать методы трапеций и прямоуголников с вычислением поправки Рунге.\n",
        "\n",
        "<!-- 4. Реализовать возможность вычисления несобственных интегралов. -->"
      ],
      "metadata": {
        "id": "Cl7oZNhWPq_0"
      }
    },
    {
      "cell_type": "code",
      "execution_count": null,
      "metadata": {
        "id": "2e0uvuwm616l"
      },
      "outputs": [],
      "source": [
        "import numpy as np\n",
        "import numpy.linalg as npl\n",
        "from numpy import double\n",
        "import math\n",
        "import matplotlib.pyplot as plt\n",
        "from scipy.stats import linregress\n",
        "%matplotlib inline\n"
      ]
    },
    {
      "cell_type": "markdown",
      "source": [
        "### Формулы для равномерной сетки\n",
        "Будем приближать функцию на отрезке $[a, b]$ интерполяционным многочленом на равномерной сетке:\n",
        "\n",
        "Для метода прямоугольников: \n",
        "$$\n",
        "    P_0(x) = f(a) ⇒ \\int_a^b f(x)dx \\approx (b-a)f(a)\n",
        "$$\n",
        "\n",
        "Для метода трапеций:\n",
        "$$\n",
        "    P_1(x) = f(a) + f(a,b)(x-a) ⇒ \\int_a^b f(x)dx \\approx (b-a)\\frac{f(a) + f(b)}{2}\n",
        "$$\n",
        "\n",
        "\n",
        "Для метода Симпсона(для случая $p = 2$):\n",
        "$$\n",
        "    \\int_a^b f(x)dx \\approx (b-a) \\left[f(a)w_0 + f \\left( \\frac{a+b}{2} \\right) w_1 + f(b)w_2 \\right],\n",
        "    \\\\\n",
        "    w_0 = \\frac{1}{2} \\int_{-1}^1 \\frac{x(x-1)}{2} dx = \\frac{1}{6},\n",
        "    \\\\\n",
        "    w_1 = \\frac{1}{2} \\int_{-1}^1 (1 - x^2)dx = \\frac{2}{3},\n",
        "    \\\\\n",
        "    w_2 = \\frac{1}{2} \\int_{-1}^1 \\frac{x(x+1)}{2} dx = \\frac{1}{6}\n",
        "$$\n",
        "\n",
        "То есть  $$ \\int_a^b f(x)dx \\approx = (b-a) \\left( \\dfrac{f(a) + 4f( \\frac{a+b}{2} ) + f(b) }{6} \\right) $$\n",
        "\n"
      ],
      "metadata": {
        "id": "dkuFSaL-oELF"
      }
    },
    {
      "cell_type": "markdown",
      "source": [
        "### Реализуем каждый из методов "
      ],
      "metadata": {
        "id": "Av8y3fz_O5Mf"
      }
    },
    {
      "cell_type": "code",
      "source": [
        "# метод правых прямоугольников\n",
        "\n",
        "def rightRectangleMethodArr(x_arr, y_arr):\n",
        "  size = x_arr.size\n",
        "  integral = 0.0\n",
        "  h_arr = [x_arr[i + 1] - x_arr[i] for i in range(size - 1)]\n",
        "  h_arr.append(h_arr[size - 2])\n",
        "  for i in range(size - 1):\n",
        "    #print(\"countin at\", a + (b - a) * h / N, \"func = \", func(a + (b - a) * h / N))\n",
        "    integral += y_arr[i] * h_arr[i]\n",
        "\n",
        "  return integral"
      ],
      "metadata": {
        "id": "pn9bOZL0JST_"
      },
      "execution_count": null,
      "outputs": []
    },
    {
      "cell_type": "code",
      "source": [
        "# метод трапеций\n",
        "\n",
        "def trapezoidalMethodArr(x_arr, y_arr):\n",
        "  size = x_arr.size\n",
        "  integral = 0.0\n",
        "  h_arr = [x_arr[i + 1] - x_arr[i] for i in range(size - 1)]\n",
        "  h_arr.append(h_arr[size - 2])\n",
        "  for i in range(size - 1):\n",
        "    #print(\"countin at\", a + (b - a) * h / N, \"func = \", func(a + (b - a) * h / N))\n",
        "    integral += (y_arr[i] + y_arr[i + 1]) / 2 * h_arr[i]\n",
        "\n",
        "  return integral"
      ],
      "metadata": {
        "id": "nx1rtav6OS-u"
      },
      "execution_count": null,
      "outputs": []
    },
    {
      "cell_type": "code",
      "source": [
        "# метод Симпсона\n",
        "\n",
        "def SimpsonMethodArr(x_arr, y_arr):\n",
        "  size = x_arr.size\n",
        "  integral = 0.0\n",
        "  h_arr = [x_arr[i + 1] - x_arr[i] for i in range(size - 1)]\n",
        "  h_arr.append(h_arr[size - 2])\n",
        "  for i in range(1, size - 1, 2):\n",
        "    #print(\"countin at\", a + (b - a) * h / N, \"func = \", func(a + (b - a) * h / N))\n",
        "    integral += (y_arr[i - 1] + 4 * y_arr[i] + y_arr[i + 1]) * h_arr[i] / 6\n",
        "\n",
        "  return integral"
      ],
      "metadata": {
        "id": "amPBRataREtt"
      },
      "execution_count": null,
      "outputs": []
    },
    {
      "cell_type": "markdown",
      "source": [
        "Зная аналитически функции посчитаем интегралы для каждого из методов"
      ],
      "metadata": {
        "id": "_1TlEziMPxYO"
      }
    },
    {
      "cell_type": "code",
      "source": [
        "def rightRectangleMethod(func, a, b, N):\n",
        "  h = (b - a) / N\n",
        "  x_arr = np.zeros(N + 1, dtype = double)\n",
        "  y_arr = np.zeros(N + 1, dtype = double)\n",
        "\n",
        "  for i in range(N + 1):\n",
        "    x_arr[i] = a + h * i\n",
        "    y_arr[i] = func(x_arr[i])\n",
        "\n",
        "  return rightRectangleMethodArr(x_arr, y_arr)"
      ],
      "metadata": {
        "id": "pKWMFDX1NvUP"
      },
      "execution_count": null,
      "outputs": []
    },
    {
      "cell_type": "code",
      "source": [
        "def centralRectangleMethod(func, a, b, N):\n",
        "  integral = 0.0\n",
        "  h = (b - a) / N\n",
        "  for i in range(N):\n",
        "    #print(\"countin at\", a + (b - a) * h / N, \"func = \", func(a + (b - a) * h / N))\n",
        "    integral += func(a + h / 2 + h * i ) * h\n",
        "\n",
        "  return integral"
      ],
      "metadata": {
        "id": "IQcorYzD9c33"
      },
      "execution_count": null,
      "outputs": []
    },
    {
      "cell_type": "code",
      "source": [
        "def trapezoidalMethod(func, a, b, N):\n",
        "  h = (b - a) / N\n",
        "  x_arr = np.zeros(N + 1, dtype = double)\n",
        "  y_arr = np.zeros(N + 1, dtype = double)\n",
        "\n",
        "  for i in range(N + 1):\n",
        "    x_arr[i] = a + h * i\n",
        "    y_arr[i] = func(x_arr[i])\n",
        "\n",
        "  return trapezoidalMethodArr(x_arr, y_arr)"
      ],
      "metadata": {
        "id": "-mBePDQvQFlj"
      },
      "execution_count": null,
      "outputs": []
    },
    {
      "cell_type": "code",
      "source": [
        "def SimpsonMethod(func, a, b, N):\n",
        "  h = (b - a) / N\n",
        "  x_arr = np.zeros(N + 1, dtype = double)\n",
        "  y_arr = np.zeros(N + 1, dtype = double)\n",
        "\n",
        "  for i in range(N + 1):\n",
        "    x_arr[i] = a + h * i\n",
        "    y_arr[i] = func(x_arr[i])\n",
        "\n",
        "  return SimpsonMethodArr(x_arr, y_arr)"
      ],
      "metadata": {
        "id": "CDWwTGeqTiI9"
      },
      "execution_count": null,
      "outputs": []
    },
    {
      "cell_type": "markdown",
      "source": [
        "###Реализуем методы трапеций и прямоуголников с вычислением поправки Рунге"
      ],
      "metadata": {
        "id": "4RElYxgNIKYk"
      }
    },
    {
      "cell_type": "code",
      "source": [
        "def rightRectangleMethodWithCorrection(func, a, b, N):\n",
        "  if (N % 2):\n",
        "    N -= 1\n",
        "  integral_h1 = rightRectangleMethod(func, a, b, N)\n",
        "  integral_h2 = rightRectangleMethod(func, a, b, int(N / 2))\n",
        "\n",
        "  correction = (integral_h1 - integral_h2)\n",
        "  # print(correction)\n",
        "\n",
        "  return integral_h1 + correction"
      ],
      "metadata": {
        "id": "luxDeLPYD7qN"
      },
      "execution_count": null,
      "outputs": []
    },
    {
      "cell_type": "code",
      "source": [
        "def centralRectangleMethodWithCorrection(func, a, b, N):\n",
        "  if (N % 2):\n",
        "    N -= 1\n",
        "  integral_h1 = centralRectangleMethod(func, a, b, N)\n",
        "  integral_h2 = centralRectangleMethod(func, a, b, int(N / 2))\n",
        "\n",
        "  #print(integral_h1, integral_h2)\n",
        "\n",
        "  correction = (integral_h1 - integral_h2) / 3\n",
        "  # print(correction)\n",
        "\n",
        "  return integral_h1 + correction"
      ],
      "metadata": {
        "id": "eqkbsuriGqkw"
      },
      "execution_count": null,
      "outputs": []
    },
    {
      "cell_type": "code",
      "source": [
        "def trapezoidalMethodWithCorrection(func, a, b, N):\n",
        "  if (N % 2):\n",
        "    N -= 1\n",
        "  integral_h1 = trapezoidalMethod(func, a, b, N)\n",
        "  integral_h2 = trapezoidalMethod(func, a, b, int(N / 2))\n",
        "\n",
        "  # print(integral_h1, integral_h2)\n",
        "\n",
        "  correction = (integral_h1 - integral_h2) / 3\n",
        "  # print(correction)\n",
        "\n",
        "  return integral_h1 + correction"
      ],
      "metadata": {
        "id": "_SuFd-1uT1fp"
      },
      "execution_count": null,
      "outputs": []
    },
    {
      "cell_type": "code",
      "source": [
        "def SimpsonMethodWithCorrection(func, a, b, N):\n",
        "  if (N % 2):\n",
        "    N -= 1\n",
        "  integral_h1 = SimpsonMethod(func, a, b, N)\n",
        "  integral_h2 = SimpsonMethod(func, a, b, int(N / 2))\n",
        "\n",
        "  #print(integral_h1, integral_h2)\n",
        "\n",
        "  correction = (integral_h1 - integral_h2) / 15\n",
        "  # print(correction)\n",
        "\n",
        "  return integral_h1 + correction"
      ],
      "metadata": {
        "id": "ScKpbObwINIO"
      },
      "execution_count": null,
      "outputs": []
    },
    {
      "cell_type": "code",
      "source": [
        "def getGraph(x_arr, y_arr):\n",
        "    plt.scatter(x_arr, y_arr, color= \"red\")\n",
        "      \n",
        "    plt.xlabel('log of N')\n",
        "    plt.ylabel('log of error')\n",
        "      \n",
        "    plt.title('ln(eps)(ln(N))')\n",
        "      \n",
        "    plt.show()\n",
        "\n",
        "    slope, intercept, r_value, p_value, std_err = linregress(x_arr, y_arr)\n",
        "    print(\"slope =\", slope)"
      ],
      "metadata": {
        "id": "FpB118paDSbl"
      },
      "execution_count": null,
      "outputs": []
    },
    {
      "cell_type": "markdown",
      "source": [
        "### Протестируем каждый из методов"
      ],
      "metadata": {
        "id": "CWEWEDPFlsGp"
      }
    },
    {
      "cell_type": "code",
      "source": [
        "def testRightRegtangles(steps):\n",
        "    f = lambda x: x * x - x\n",
        "    N_arr = [(2 ** n) for n in range (1, steps) ]\n",
        "    epsilon = [ np.abs((rightRectangleMethod(f, 1, 2, n)) - 5 / 6) for n in N_arr ]\n",
        "\n",
        "    print(\"right rectangles:\")\n",
        "\n",
        "    lnEps = [np.log(i) for i in epsilon]\n",
        "    lnH = [np.log(i) for i in N_arr]\n",
        "\n",
        "    getGraph(lnH, lnEps)"
      ],
      "metadata": {
        "id": "SOox_1ayAjkL"
      },
      "execution_count": null,
      "outputs": []
    },
    {
      "cell_type": "code",
      "source": [
        "def testCentralRegtangles(steps):\n",
        "    f = lambda x: x * x - x\n",
        "    N_arr = [(2 ** n) for n in range (1, steps) ]\n",
        "    epsilon = [ np.abs((centralRectangleMethod(f, 1, 2, n)) - 5 / 6) for n in N_arr ]\n",
        "\n",
        "    print(\"central rectangles:\")\n",
        "\n",
        "    lnEps = [np.log(i) for i in epsilon]\n",
        "    lnH = [np.log(i) for i in N_arr]\n",
        "\n",
        "    getGraph(lnH, lnEps)"
      ],
      "metadata": {
        "id": "7mYcn5mtDnLk"
      },
      "execution_count": null,
      "outputs": []
    },
    {
      "cell_type": "code",
      "source": [
        "def testTrapezoidal(steps):\n",
        "    f = lambda x: x * x - x\n",
        "    N_arr = [(2 ** n) for n in range (1, steps) ]\n",
        "    epsilon = [ np.abs((trapezoidalMethod(f, 1, 2, n)) - 5 / 6) for n in N_arr ]\n",
        "\n",
        "    print(\"trapezoidal:\")\n",
        "\n",
        "    lnEps = [np.log(i) for i in epsilon]\n",
        "    lnH = [np.log(i) for i in N_arr]\n",
        "\n",
        "    getGraph(lnH, lnEps)"
      ],
      "metadata": {
        "id": "Fsoyu1AkluYB"
      },
      "execution_count": null,
      "outputs": []
    },
    {
      "cell_type": "code",
      "source": [
        "def testSimpson(steps):\n",
        "    f = lambda x: x * x * x * x - x * x * x\n",
        "    # f = lambda x: x* x - x \n",
        "    N_arr = [(2 ** n) for n in range (1, steps) ]\n",
        "    epsilon = [ np.abs((SimpsonMethod(f, 1, 2, n)) - 2.45) for n in N_arr ]\n",
        "    # epsilon = [ np.abs((SimpsonMethod(f, 1, 2, n)) - 5 / 6) for n in N_arr ]\n",
        "\n",
        "    print(\"simpson:\")\n",
        "\n",
        "    lnEps = [np.log(i) for i in epsilon]\n",
        "    lnH = [np.log(i) for i in N_arr]\n",
        "\n",
        "    getGraph(lnH, lnEps)"
      ],
      "metadata": {
        "id": "atUVPaT2mUyI"
      },
      "execution_count": null,
      "outputs": []
    },
    {
      "cell_type": "code",
      "source": [
        "def testRightRectanglesWithCorrection(steps):\n",
        "    f = lambda x: x * x - x\n",
        "    N_arr = [(2 ** n) for n in range (1, steps) ]\n",
        "    epsilon = [ np.abs((rightRectangleMethodWithCorrection(f, 1, 2, n)) - 5 / 6) for n in N_arr ]\n",
        "\n",
        "    print(\"right rectangles with correcion:\")\n",
        "\n",
        "    lnEps = [np.log(i) for i in epsilon]\n",
        "    lnH = [np.log(i) for i in N_arr]\n",
        "\n",
        "    getGraph(lnH, lnEps)\n"
      ],
      "metadata": {
        "id": "O2aNVr87EFt_"
      },
      "execution_count": null,
      "outputs": []
    },
    {
      "cell_type": "code",
      "source": [
        "def testCentralRectanglesWithCorrection(steps):\n",
        "    f = lambda x: x * x * x * x\n",
        "    N_arr = [(2 ** n) for n in range (1, steps) ]\n",
        "    epsilon = [ np.abs((centralRectangleMethodWithCorrection(f, 1, 2, n)) - 6.2) for n in N_arr ]\n",
        "\n",
        "    print(epsilon)\n",
        "\n",
        "    print(\"central rectangles with correcion:\")\n",
        "\n",
        "    lnEps = [np.log(i) for i in epsilon]\n",
        "    lnH = [np.log(i) for i in N_arr]\n",
        "\n",
        "    getGraph(lnH, lnEps)"
      ],
      "metadata": {
        "id": "y-CVblbQETFu"
      },
      "execution_count": null,
      "outputs": []
    },
    {
      "cell_type": "code",
      "source": [
        "def testTrapezoidalWithCorrection(steps):\n",
        "    f = lambda x: x * x * x * x\n",
        "    N_arr = [(2 ** n) for n in range (1, steps) ]\n",
        "    epsilon = [ np.abs((trapezoidalMethodWithCorrection(f, 1, 2, n)) - 6.2) for n in N_arr ]\n",
        "\n",
        "    print(epsilon)\n",
        "\n",
        "    print(\"trapezoidal with correcion:\")\n",
        "\n",
        "    lnEps = [np.log(i) for i in epsilon]\n",
        "    lnH = [np.log(i) for i in N_arr]\n",
        "\n",
        "    getGraph(lnH, lnEps)"
      ],
      "metadata": {
        "id": "EXNLscqfpw6F"
      },
      "execution_count": null,
      "outputs": []
    },
    {
      "cell_type": "code",
      "source": [
        "def testSimpsonWithCorrection(steps):\n",
        "    f = lambda x: x * x * x * x * x * x * x\n",
        "    N_arr = [(2 ** n) for n in range (1, steps) ]\n",
        "    epsilon = [ np.abs((SimpsonMethodWithCorrection(f, 1, 2, n)) - 32) for n in N_arr ]\n",
        "\n",
        "    print(epsilon)\n",
        "\n",
        "    print(\"Simpson with correcion:\")\n",
        "\n",
        "    lnEps = [np.log(i) for i in epsilon]\n",
        "    lnH = [np.log(i) for i in N_arr]\n",
        "\n",
        "    getGraph(lnH, lnEps)"
      ],
      "metadata": {
        "id": "wEtNHNeDp6F3"
      },
      "execution_count": null,
      "outputs": []
    },
    {
      "cell_type": "code",
      "source": [
        "testRightRegtangles(10)"
      ],
      "metadata": {
        "colab": {
          "base_uri": "https://localhost:8080/",
          "height": 331
        },
        "id": "t0wCau3DBQ10",
        "outputId": "eb98b3af-e6db-45ba-e986-eba1957d397b"
      },
      "execution_count": null,
      "outputs": [
        {
          "output_type": "stream",
          "name": "stdout",
          "text": [
            "right rectangles:\n"
          ]
        },
        {
          "output_type": "display_data",
          "data": {
            "text/plain": [
              "<Figure size 432x288 with 1 Axes>"
            ],
            "image/png": "[encoded data removed]"
          },
          "metadata": {
            "needs_background": "light"
          }
        },
        {
          "output_type": "stream",
          "name": "stdout",
          "text": [
            "slope = -0.9875006588133223\n"
          ]
        }
      ]
    },
    {
      "cell_type": "code",
      "source": [
        "testCentralRegtangles(10)"
      ],
      "metadata": {
        "colab": {
          "base_uri": "https://localhost:8080/",
          "height": 331
        },
        "id": "gaE6P5-ED0sp",
        "outputId": "ae09af02-dffb-4490-b869-2ab217506177"
      },
      "execution_count": null,
      "outputs": [
        {
          "output_type": "stream",
          "name": "stdout",
          "text": [
            "central rectangles:\n"
          ]
        },
        {
          "output_type": "display_data",
          "data": {
            "text/plain": [
              "<Figure size 432x288 with 1 Axes>"
            ],
            "image/png": "[encoded data removed]"
          },
          "metadata": {
            "needs_background": "light"
          }
        },
        {
          "output_type": "stream",
          "name": "stdout",
          "text": [
            "slope = -1.999999999986315\n"
          ]
        }
      ]
    },
    {
      "cell_type": "code",
      "source": [
        "testTrapezoidal(10)"
      ],
      "metadata": {
        "colab": {
          "base_uri": "https://localhost:8080/",
          "height": 331
        },
        "id": "bdcFYh1LmEeR",
        "outputId": "780f7663-4c96-4c33-a987-ac7f2d031661"
      },
      "execution_count": null,
      "outputs": [
        {
          "output_type": "stream",
          "name": "stdout",
          "text": [
            "trapezoidal:\n"
          ]
        },
        {
          "output_type": "display_data",
          "data": {
            "text/plain": [
              "<Figure size 432x288 with 1 Axes>"
            ],
            "image/png": "[encoded data removed]"
          },
          "metadata": {
            "needs_background": "light"
          }
        },
        {
          "output_type": "stream",
          "name": "stdout",
          "text": [
            "slope = -2.000000000006843\n"
          ]
        }
      ]
    },
    {
      "cell_type": "code",
      "source": [
        "testSimpson(10)"
      ],
      "metadata": {
        "colab": {
          "base_uri": "https://localhost:8080/",
          "height": 331
        },
        "id": "Sk5XB0n2maCU",
        "outputId": "acd26587-9e66-466e-addd-ab2ffd900b88"
      },
      "execution_count": null,
      "outputs": [
        {
          "output_type": "stream",
          "name": "stdout",
          "text": [
            "simpson:\n"
          ]
        },
        {
          "output_type": "display_data",
          "data": {
            "text/plain": [
              "<Figure size 432x288 with 1 Axes>"
            ],
            "image/png": "[encoded data removed]"
          },
          "metadata": {
            "needs_background": "light"
          }
        },
        {
          "output_type": "stream",
          "name": "stdout",
          "text": [
            "slope = -5.339044173024864e-17\n"
          ]
        }
      ]
    },
    {
      "cell_type": "code",
      "source": [
        "testRightRectanglesWithCorrection(10)"
      ],
      "metadata": {
        "colab": {
          "base_uri": "https://localhost:8080/",
          "height": 331
        },
        "id": "dy25DS5KD2Am",
        "outputId": "34a78843-3634-4699-addd-895ce2ce9f5b"
      },
      "execution_count": null,
      "outputs": [
        {
          "output_type": "stream",
          "name": "stdout",
          "text": [
            "right rectangles with correcion:\n"
          ]
        },
        {
          "output_type": "display_data",
          "data": {
            "text/plain": [
              "<Figure size 432x288 with 1 Axes>"
            ],
            "image/png": "[encoded data removed]"
          },
          "metadata": {
            "needs_background": "light"
          }
        },
        {
          "output_type": "stream",
          "name": "stdout",
          "text": [
            "slope = -1.999999999996579\n"
          ]
        }
      ]
    },
    {
      "cell_type": "code",
      "source": [
        "testCentralRectanglesWithCorrection(10)"
      ],
      "metadata": {
        "id": "5IiYGZVgEYFD",
        "colab": {
          "base_uri": "https://localhost:8080/",
          "height": 369
        },
        "outputId": "3140b5e9-c324-47e3-f492-0655b33caaf3"
      },
      "execution_count": null,
      "outputs": [
        {
          "output_type": "stream",
          "name": "stdout",
          "text": [
            "[0.00729166666666714, 0.00045572916666714036, 2.8483072917140362e-05, 1.7801920577653618e-06, 1.1126200405442432e-07, 6.95387569749073e-09, 4.346176751823805e-10, 2.716404878810863e-11, 1.6981971384666394e-12]\n",
            "central rectangles with correcion:\n"
          ]
        },
        {
          "output_type": "display_data",
          "data": {
            "text/plain": [
              "<Figure size 432x288 with 1 Axes>"
            ],
            "image/png": "[encoded data removed]"
          },
          "metadata": {
            "needs_background": "light"
          }
        },
        {
          "output_type": "stream",
          "name": "stdout",
          "text": [
            "slope = -3.999971855934229\n"
          ]
        }
      ]
    },
    {
      "cell_type": "code",
      "source": [
        "testTrapezoidalWithCorrection(10)"
      ],
      "metadata": {
        "colab": {
          "base_uri": "https://localhost:8080/",
          "height": 369
        },
        "id": "MkULxVk_qgSU",
        "outputId": "6008e034-4094-4f6d-8d4e-d4b91d4bf6d2"
      },
      "execution_count": null,
      "outputs": [
        {
          "output_type": "stream",
          "name": "stdout",
          "text": [
            "[0.00833333333333286, 0.0005208333333328596, 3.255208333285964e-05, 2.034505207859638e-06, 1.2715657504713818e-07, 7.947285496356926e-09, 4.96704899433098e-10, 3.104361212535878e-11, 1.9397816686250735e-12]\n",
            "trapezoidal with correcion:\n"
          ]
        },
        {
          "output_type": "display_data",
          "data": {
            "text/plain": [
              "<Figure size 432x288 with 1 Axes>"
            ],
            "image/png": "[encoded data removed]"
          },
          "metadata": {
            "needs_background": "light"
          }
        },
        {
          "output_type": "stream",
          "name": "stdout",
          "text": [
            "slope = -4.000024632217687\n"
          ]
        }
      ]
    },
    {
      "cell_type": "code",
      "source": [
        "testSimpsonWithCorrection(10)"
      ],
      "metadata": {
        "colab": {
          "base_uri": "https://localhost:8080/",
          "height": 369
        },
        "id": "FCzWLg-kqhEs",
        "outputId": "4acfba27-afe2-44b0-df49-2f811a5b3bef"
      },
      "execution_count": null,
      "outputs": [
        {
          "output_type": "stream",
          "name": "stdout",
          "text": [
            "[14.458333333333332, 16.060546875, 16.062469482421875, 16.062499523162842, 16.06249999254942, 16.062499999883585, 16.06249999999818, 16.06249999999997, 16.0625]\n",
            "Simpson with correcion:\n"
          ]
        },
        {
          "output_type": "display_data",
          "data": {
            "text/plain": [
              "<Figure size 432x288 with 1 Axes>"
            ],
            "image/png": "[encoded data removed]"
          },
          "metadata": {
            "needs_background": "light"
          }
        },
        {
          "output_type": "stream",
          "name": "stdout",
          "text": [
            "slope = 0.010128543685689344\n"
          ]
        }
      ]
    },
    {
      "cell_type": "code",
      "source": [
        "f1 = lambda x: x + 1\n",
        "f2 = lambda x: x * x\n",
        "arr_size = 10\n",
        "\n",
        "args = np.zeros(arr_size + 1, dtype = double)\n",
        "ys = np.zeros(arr_size + 1, dtype = double)\n",
        "\n",
        "for i in range(arr_size + 1):\n",
        "  args[i] = 1 + 1 * i / arr_size\n",
        "  ys[i] = f1(args[i])\n",
        "\n",
        "#print(rightRectangleMethod(f2, 1, 2, 10))\n",
        "\n",
        "#print(trapezoidalMethod(f1, 1, 2, 10))\n",
        "\n",
        "print(SimpsonMethodArr(args, ys))\n",
        "print(SimpsonMethod(f1, 1, 2, 10))\n",
        "\n",
        "# print(rightRectangleMethodWithCorrection(f2, 1, 2, 10))\n",
        "# print(centralRectangleMethod(f2, 1, 2, 10))\n",
        "# print(centralRectangleMethodWithCorrection(f2, 1, 2, 10))"
      ],
      "metadata": {
        "id": "YDCqkZuK7YZc",
        "colab": {
          "base_uri": "https://localhost:8080/"
        },
        "outputId": "1a5a29d4-932c-48a1-adbc-ab1a7ebf2392"
      },
      "execution_count": null,
      "outputs": [
        {
          "output_type": "stream",
          "name": "stdout",
          "text": [
            "1.25\n",
            "1.2499999999999996\n"
          ]
        }
      ]
    },
    {
      "cell_type": "code",
      "source": [
        "\n",
        " "
      ],
      "metadata": {
        "id": "9SySVRQLKlGP"
      },
      "execution_count": null,
      "outputs": []
    },
    {
      "cell_type": "code",
      "source": [],
      "metadata": {
        "id": "ivFj1WI_pTSI"
      },
      "execution_count": null,
      "outputs": []
    }
  ]
}