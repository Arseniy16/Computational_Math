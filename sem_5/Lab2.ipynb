{
  "nbformat": 4,
  "nbformat_minor": 0,
  "metadata": {
    "colab": {
      "provenance": [],
      "authorship_tag": "ABX9TyMQEXOW8t4Cd78ajM2caI0d",
      "include_colab_link": true
    },
    "kernelspec": {
      "name": "python3",
      "display_name": "Python 3"
    },
    "language_info": {
      "name": "python"
    }
  },
  "cells": [
    {
      "cell_type": "markdown",
      "metadata": {
        "id": "view-in-github",
        "colab_type": "text"
      },
      "source": [
        "<a href=\"https://colab.research.google.com/github/Arseniy16/Computational_Math/blob/main/Lab2.ipynb\" target=\"_parent\"><img src=\"https://colab.research.google.com/assets/colab-badge.svg\" alt=\"Open In Colab\"/></a>"
      ]
    },
    {
      "cell_type": "markdown",
      "source": [
        "# Лабораторная работа 2\n",
        "###  *Численное решение СЛАУ*\n",
        "---\n",
        "\n",
        "Написать программу для численного решения СЛАУ произвольного\n",
        "порядка. Предусмотреть возможность проверки совместности системы,\n",
        "достаточных условий применимости используемых методов, оценки числа обусловленности.\n",
        "1. Реализовать метод прогонки для трехдиагональной матрицы СЛАУ.\n",
        "2. Реализовать методы Якоби и Зейделя итерационного решения СЛАУ.\n",
        "3. Реализовать методы наискорейшего спуска и наименьшей невязки."
      ],
      "metadata": {
        "id": "LlsaEzLbQrUF"
      }
    },
    {
      "cell_type": "markdown",
      "source": [
        "\n",
        "---\n",
        "\n",
        "\n",
        "Реализуем метод прогонки для трехдиагональной матрицы СЛАУ.\n",
        "\n",
        "Для этого необходимо:\n",
        "\n",
        "\n",
        "1.   Соответствие размерностей\n",
        "2.   Условие диагонального преобладания\n",
        "3.   Ненулевые элементы на главной диагонали ($a_{ii} \\neq 0 $)\n",
        "\n",
        "\n",
        "Определение прогоночных коэф-ов:\n",
        "\n",
        "$\n",
        "    v_i = \\dfrac{a_{[i] [i+1]}}{-a_{[i][i]} - a_{[i][i-1]} \\cdot v_{i-1}}\n",
        "$\n",
        "\n",
        "$\n",
        "    u_i = \\dfrac{  a_{[i][i-1]} \\cdot u_{i-1} - b_i }{ -a_{[i][i]} - a_{[i][i-1]} \\cdot v_{i-1}   }\n",
        "$\n",
        "\n",
        "\\\\\n",
        "\n",
        "Для первой строки матрицы:\n",
        "\n",
        "$ v_0 = \\dfrac{ a_{[0][1]} }{ a_{[0][0]} } $ и $ u_0 = \\dfrac{ - b_0 }{ -a_{[0][0]} }$\n",
        "\n",
        "\\\\\n",
        "\n",
        "Для последней строки матрицы:\n",
        "\n",
        "$ v_{n-1} = 0 $\n",
        "\n",
        "$ u_{n-1} = \\dfrac{ a_{[n-1][n-2]} \\cdot u_{n-2} - b_{n-1} }{ -a_{[n-1][n-1]} - a_{[n-1][n-2]} \\cdot v_{n-2} }$\n"
      ],
      "metadata": {
        "id": "Q4vvM5_oSJYY"
      }
    },
    {
      "cell_type": "code",
      "source": [
        "import numpy as np\n",
        "from numpy import linalg\n"
      ],
      "metadata": {
        "id": "06hisjURRvxI"
      },
      "execution_count": 199,
      "outputs": []
    },
    {
      "cell_type": "code",
      "source": [
        "# Ax = B\n",
        "N = 5\n",
        "rand_num = 50\n",
        "\n",
        "buf = np.zeros((N, N), dtype = 'int')\n",
        "\n",
        "flat = buf.ravel()\n",
        "flat[0::N+1] = np.random.randint(0, rand_num, N)\n",
        "flat[N::N+1] = np.random.randint(0, rand_num, N-1)\n",
        "flat[1::N+1] = np.random.randint(0, rand_num, N-1)\n",
        "\n",
        "A = buf\n",
        "B = np.random.randint(rand_num, size=(N, 1))"
      ],
      "metadata": {
        "id": "xpz8mNcy_WpI"
      },
      "execution_count": 200,
      "outputs": []
    },
    {
      "cell_type": "code",
      "source": [
        "# Проверка на диагональное преобладание\n",
        "if (np.abs(A[0][0]) < np.abs(A[0][1]) ): \n",
        "    A[0][0] = np.abs(A[0][1]) + np.random.randint(1, 5)\n",
        "\n",
        "if (np.abs(A[N-1][N-1]) < np.abs(A[N-1][N-2]) ): \n",
        "    A[N-1][N-1] = np.abs(A[N-1][N-2]) + np.random.randint(1,5)\n",
        "\n",
        "for i in range(1, N-1):\n",
        "    if(np.abs(A[i][i]) < np.abs(A[i][i-1]) + np.abs(A[i][i+1]) ): \n",
        "        A[i][i] = np.abs(A[i][i-1]) + np.abs(A[i][i+1]) + np.random.randint(1,10)  \n",
        "\n",
        "A_B = np.hstack((A, B))\n",
        "# print(B.flatten())\n",
        "print('Матрица A:\\n', A)\n",
        "print('Матрица B:\\n', B)\n",
        "print('Расширенная матрица:\\n', A_B)\n",
        "\n",
        "# print(A, '\\n\\n', A_B) #debug"
      ],
      "metadata": {
        "id": "SORh-1R6Sxh2",
        "colab": {
          "base_uri": "https://localhost:8080/"
        },
        "outputId": "b47c8285-9eeb-4a55-b282-4a661b56943c"
      },
      "execution_count": 201,
      "outputs": [
        {
          "output_type": "stream",
          "name": "stdout",
          "text": [
            "Матрица A:\n",
            " [[11  7  0  0  0]\n",
            " [ 6 19  9  0  0]\n",
            " [ 0 28 59 29  0]\n",
            " [ 0  0  1 32 23]\n",
            " [ 0  0  0 39 42]]\n",
            "Матрица B:\n",
            " [[36]\n",
            " [47]\n",
            " [28]\n",
            " [ 2]\n",
            " [43]]\n",
            "Расширенная матрица:\n",
            " [[11  7  0  0  0 36]\n",
            " [ 6 19  9  0  0 47]\n",
            " [ 0 28 59 29  0 28]\n",
            " [ 0  0  1 32 23  2]\n",
            " [ 0  0  0 39 42 43]]\n"
          ]
        }
      ]
    },
    {
      "cell_type": "markdown",
      "source": [
        "Проверим совместность СЛАУ, используя Теорему Кронекера-Капелли."
      ],
      "metadata": {
        "id": "6zFrAFohaACH"
      }
    },
    {
      "cell_type": "code",
      "source": [
        "rkA = linalg.matrix_rank(A)\n",
        "rkB = linalg.matrix_rank(A_B)\n",
        "print('Ранг A = ', rkA, '\\nРанг A|B = ', rkB) \n",
        "if (rkA == rkB): print('СЛАУ - совместна')\n",
        "else: print('СЛАУ - несовместна')"
      ],
      "metadata": {
        "colab": {
          "base_uri": "https://localhost:8080/"
        },
        "id": "3UG2GVJ_UG6h",
        "outputId": "d5e2513f-f212-4f89-ca38-cf3b77da6320"
      },
      "execution_count": 202,
      "outputs": [
        {
          "output_type": "stream",
          "name": "stdout",
          "text": [
            "Ранг A =  5 \n",
            "Ранг A|B =  5\n",
            "СЛАУ - совместна\n"
          ]
        }
      ]
    },
    {
      "cell_type": "code",
      "source": [
        "'''\n",
        "# for test(don't use)\n",
        "\n",
        "# Пробные данные для уравнения A*X = B\n",
        "a = [[ 10.8000, 0.0475,      0, 0     ],\n",
        "     [  0.0321, 9.9000, 0.0523, 0     ],\n",
        "     [       0, 0.0369, 9.0000, 0.0570],\n",
        "     [       0,      0, 0.0416, 8.1000]]\n",
        " \n",
        "b = [12.1430, 13.0897, 13.6744, 13.8972]\n",
        " \n",
        "# Решение, которое должно получиться:\n",
        "# x1 = 1,118587\n",
        "# x2 = 1,310623\n",
        "# x3 = 1,503186\n",
        "# x4 = 1,707983\n",
        "'''"
      ],
      "metadata": {
        "id": "Q1q3xmJ-_mBP"
      },
      "execution_count": null,
      "outputs": []
    },
    {
      "cell_type": "markdown",
      "source": [
        "Реализуем метод прогонки для решения СЛАУ."
      ],
      "metadata": {
        "id": "LFNe59B8AZ-9"
      }
    },
    {
      "cell_type": "code",
      "source": [
        "import math \n",
        "\n",
        "# Вывод матрицы на экран\n",
        "def print_arr( string, namevec, a ):\n",
        "    if (type(a) == int) or (type(a) == float):\n",
        "        print(a)\n",
        "    else:\n",
        "        print( string )\n",
        "        for k in range(len(a)):   \n",
        "            print(\"{}[{}] = {:8.4f}\".format(namevec, k, a[k]))\n",
        "            \n",
        " \n",
        "# Проверка 3х-диаг. матрицы коэффициентов на корректность\n",
        "def isCorrectArray(a):\n",
        "    n = len(a)\n",
        "    \n",
        "    for row in range(0, n):\n",
        "        if( len(a[row]) != n ):\n",
        "            print('Не соответствует размерность')\n",
        "            return False\n",
        "        \n",
        "    for row in range(1, n - 1):\n",
        "        if(abs(a[row][row]) < abs(a[row][row - 1]) + abs(a[row][row + 1])):\n",
        "            print('Не выполнены условия достаточности')\n",
        "            return False\n",
        "\n",
        "    if (abs(a[0][0]) < abs(a[0][1])) or (abs(a[n - 1][n - 1]) < abs(a[n - 1][n - 2])):\n",
        "        print('Не выполнены условия достаточности')\n",
        "        return False\n",
        "        \n",
        "    \n",
        "    for row in range(0, len(a)):\n",
        "        if( a[row][row] == 0 ):\n",
        "            print('Нулевые элементы на главной диагонали')\n",
        "            return False\n",
        "    return True\n",
        " \n",
        "  \n",
        "# Процедура нахождения решения 3-х диагональной матрицы\n",
        "def solution_runThrough(a, b):\n",
        "    if( not isCorrectArray(a) ):\n",
        "        print('Ошибка в исходных данных')\n",
        "        return -1 \n",
        " \n",
        "    n = len(a)\n",
        "    x = [0 for k in range(0, n)] # обнуление вектора решений\n",
        "    print('Размерность матрицы: ',n,'x',n)\n",
        "    \n",
        "    # Прямой ход\n",
        "    v = [0 for k in range(0, n)]\n",
        "    u = [0 for k in range(0, n)]\n",
        "    # для первой 0-й строки\n",
        "    v[0] = a[0][1] / (-a[0][0]) \n",
        "    u[0] = ( - b[0]) / (-a[0][0]) \n",
        "    for i in range(1, n - 1): # заполняем за исключением 1-й и (n-1)-й строк матрицы\n",
        "        v[i] = a[i][i+1] / ( -a[i][i] - a[i][i-1]*v[i-1] )\n",
        "        u[i] = ( a[i][i-1]*u[i-1] - b[i] ) / ( -a[i][i] - a[i][i-1]*v[i-1] )\n",
        "    # для последней (n-1)-й строки\n",
        "    v[n-1] = 0\n",
        "    u[n-1] = (a[n-1][n-2]*u[n-2] - b[n-1]) / (-a[n-1][n-1] - a[n-1][n-2]*v[n-2])\n",
        "    \n",
        "    print_arr('Прогоночные коэффициенты v: ','v', v)\n",
        "    print_arr('Прогоночные коэффициенты u: ','u', u)\n",
        "    \n",
        "    # Обратный ход\n",
        "    x[n-1] = u[n-1]\n",
        "    for i in range(n-1, 0, -1):\n",
        "        x[i-1] = v[i-1] * x[i] + u[i-1]\n",
        "        \n",
        "    return x    \n",
        "                "
      ],
      "metadata": {
        "id": "reRHYca7l1P8"
      },
      "execution_count": 204,
      "outputs": []
    },
    {
      "cell_type": "markdown",
      "source": [
        "Реализуем методы Якоби и Зейделя итерационного решения СЛАУ."
      ],
      "metadata": {
        "id": "LQxZe0IaI9Hd"
      }
    },
    {
      "cell_type": "code",
      "source": [
        "import copy\n",
        " \n",
        "# Проверка матрицы коэффициентов на корректность\n",
        "def isCorrectArray_new(a, b):\n",
        "    for row in range(0, len(a)):        \n",
        "        if( len(a[row]) != len(b) ):\n",
        "            print('Не соответствует размерность')\n",
        "            return False\n",
        "    \n",
        "    for row in range(0, len(a)):\n",
        "        if( a[row][row] == 0 ):\n",
        "            print('Нулевые элементы на главной диагонали')\n",
        "            return False\n",
        "    return True\n",
        " \n",
        " \n",
        "# Условие завершения программы  \n",
        "def isNeedToComplete(x_old, x_new):\n",
        "    eps = 0.0001\n",
        "    sum_up = 0\n",
        "    # sum_low = 0\n",
        "    for k in range(0, len(x_old)):\n",
        "        sum_up += ( x_new[k] - x_old[k] ) ** 2\n",
        "\n",
        "        # sum_low += ( x_new[k] ) ** 2\n",
        "        \n",
        "    # return math.sqrt( sum_up / sum_low ) < eps\n",
        "    return math.sqrt( sum_up ) < eps    \n",
        "\n",
        "\n",
        "# Далее реализуем каждый из методов\n",
        "# ---------------------------------\n",
        "# метод Якоби\n",
        "def solution_jacobi(a, b):\n",
        "\n",
        "    if( not isCorrectArray_new(a, b) ):\n",
        "        print('Ошибка в исходных данных')\n",
        "    else:\n",
        "        count = len(b) # количество корней\n",
        "        \n",
        "        x = [1 for k in range(0, count) ] # начальное приближение корней\n",
        "        \n",
        "        numberOfIter = 0  # подсчет количества итераций\n",
        "        MAX_ITER = 100    # максимально допустимое число итераций\n",
        "\n",
        "        while( numberOfIter < MAX_ITER ):\n",
        " \n",
        "            x_prev = copy.deepcopy(x)\n",
        "            \n",
        "            for k in range(0, count):\n",
        "                S = 0\n",
        "                for j in range(0, count):\n",
        "                    if( j != k ): S = S + a[k][j] * x_prev[j]\n",
        "                \n",
        "                x[k] = b[k]/a[k][k] - S / a[k][k]   \n",
        "            \n",
        "            if isNeedToComplete(x_prev, x) : \n",
        "                break\n",
        "              \n",
        "            numberOfIter += 1\n",
        " \n",
        "        print('Количество итераций на решение: ', numberOfIter)\n",
        "        \n",
        "        return x\n",
        "\n",
        "# метод Зейделя\n",
        "def solution_zeidel(a, b):\n",
        "\n",
        "    if( not isCorrectArray_new(a, b) ):\n",
        "        print('Ошибка в исходных данных')\n",
        "    else:\n",
        "        count = len(b) # количество корней\n",
        "        \n",
        "        x = [1 for k in range(0, count) ] # начальное приближение корней\n",
        "        \n",
        "        numberOfIter = 0  # подсчет количества итераций\n",
        "        MAX_ITER = 100    # максимально допустимое число итераций\n",
        "\n",
        "        while( numberOfIter < MAX_ITER ):\n",
        " \n",
        "            x_prev = copy.deepcopy(x)\n",
        "            \n",
        "            for k in range(0, count):\n",
        "                S = 0\n",
        "                for j in range(0, count):\n",
        "                    if( j != k ): S = S + a[k][j] * x[j] \n",
        "                x[k] = b[k]/a[k][k] - S / a[k][k]\n",
        "            \n",
        "            if isNeedToComplete(x_prev, x) : \n",
        "                break\n",
        "              \n",
        "            numberOfIter += 1\n",
        " \n",
        "        print('Количество итераций на решение: ', numberOfIter)\n",
        "        \n",
        "        return x  \n",
        "\n",
        "# метод наискорейшего спуска\n",
        "def solution_fastDescent(a, b):\n",
        "\n",
        "    if( not isCorrectArray_new(a, b) ):\n",
        "        print('Ошибка в исходных данных')\n",
        "    else:\n",
        "        count = len(b)\n",
        "\n",
        "        x = [1 for k in range(0, count) ] # начальное приближение корней\n",
        "        x = [b[i] / a[i][i] for i in range(0, count) ] # начальное приближение корней\n",
        "\n",
        "\n",
        "        numberOfIter = 0  # подсчет количества итераций\n",
        "        MAX_ITER = 100   # максимально допустимое число итераций\n",
        "\n",
        "        while( numberOfIter < MAX_ITER ):\n",
        "\n",
        "            x_prev = copy.deepcopy(x)\n",
        "\n",
        "            r = np.dot(a, x) - b\n",
        "\n",
        "            tau =  np.dot(r, r) / np.dot(np.dot(a, r), r)\n",
        "\n",
        "            x = x - tau * r\n",
        "\n",
        "            if isNeedToComplete(x_prev, x) : \n",
        "                break\n",
        "              \n",
        "            numberOfIter += 1\n",
        " \n",
        "        print('Количество итераций на решение: ', numberOfIter)\n",
        "\n",
        "        return x\n",
        "    \n",
        "# метод минимальных невязок\n",
        "def solution_minError(a, b):\n",
        "\n",
        "    if( not isCorrectArray_new(a, b) ):\n",
        "        print('Ошибка в исходных данных')\n",
        "    else:\n",
        "        count = len(b)\n",
        "\n",
        "        x = [1 for k in range(0, count) ] # начальное приближение корней\n",
        "        x = [b[i] / a[i][i] for i in range(0, count) ] # начальное приближение корней\n",
        "\n",
        "        numberOfIter = 0  # подсчет количества итераций\n",
        "        MAX_ITER = 100   # максимально допустимое число итераций\n",
        "\n",
        "        while( numberOfIter < MAX_ITER ):\n",
        "\n",
        "            x_prev = copy.deepcopy(x)\n",
        "\n",
        "            r = np.dot(a, x) - b\n",
        "\n",
        "            Ar = np.dot(a, r)\n",
        "\n",
        "            tau =  np.dot(Ar, r) / np.dot(Ar, Ar)\n",
        "\n",
        "            x = x - tau * r\n",
        "\n",
        "            if isNeedToComplete(x_prev, x) : \n",
        "                break\n",
        "              \n",
        "            numberOfIter += 1\n",
        " \n",
        "        print('Количество итераций на решение: ', numberOfIter)\n",
        "\n",
        "        return x\n"
      ],
      "metadata": {
        "id": "UQP1dQbE4iMU"
      },
      "execution_count": 205,
      "outputs": []
    },
    {
      "cell_type": "markdown",
      "source": [
        "А теперь протестируем все методы."
      ],
      "metadata": {
        "id": "zA1OuL1VBbFk"
      }
    },
    {
      "cell_type": "code",
      "source": [
        "# метод прогонки\n",
        "method_run_through = solution_runThrough(A, B.flatten())\n",
        "print_arr('Решение: ','x', method_run_through)"
      ],
      "metadata": {
        "colab": {
          "base_uri": "https://localhost:8080/"
        },
        "id": "-hHUODUMEvPA",
        "outputId": "d8b53078-cf28-486c-de6b-625d01c09fd2"
      },
      "execution_count": 206,
      "outputs": [
        {
          "output_type": "stream",
          "name": "stdout",
          "text": [
            "Размерность матрицы:  5 x 5\n",
            "Прогоночные коэффициенты v: \n",
            "v[0] =  -0.6364\n",
            "v[1] =  -0.5928\n",
            "v[2] =  -0.6839\n",
            "v[3] =  -0.7344\n",
            "v[4] =   0.0000\n",
            "Прогоночные коэффициенты u: \n",
            "u[0] =   3.2727\n",
            "u[1] =   1.8024\n",
            "u[2] =  -0.5299\n",
            "u[3] =   0.0808\n",
            "u[4] =   2.9835\n",
            "Решение: \n",
            "x[0] =   2.4704\n",
            "x[1] =   1.2608\n",
            "x[2] =   0.9136\n",
            "x[3] =  -2.1104\n",
            "x[4] =   2.9835\n"
          ]
        }
      ]
    },
    {
      "cell_type": "code",
      "source": [
        "# метод Якоби\n",
        "method_jacobi = solution_jacobi(A.tolist(), list(B.flatten()) )\n",
        "print( 'Метод Якоби:\\nРешение: ',  method_jacobi)"
      ],
      "metadata": {
        "colab": {
          "base_uri": "https://localhost:8080/"
        },
        "id": "djui7djYV_iE",
        "outputId": "57094c7e-1dae-4ec4-dbb9-cb5662508987"
      },
      "execution_count": 207,
      "outputs": [
        {
          "output_type": "stream",
          "name": "stdout",
          "text": [
            "Количество итераций на решение:  56\n",
            "Метод Якоби:\n",
            "Решение:  [2.470320890808543, 1.2608719760855418, 0.9134534199684177, -2.110392810312383, 2.9834036705417644]\n"
          ]
        }
      ]
    },
    {
      "cell_type": "code",
      "source": [
        "# метод Зейделя\n",
        "method_zeidel = solution_zeidel(A.tolist(), list(B.flatten()) )\n",
        "print( 'Метод Зейделя:\\nРешение: ',  method_zeidel)"
      ],
      "metadata": {
        "id": "lOK6U1eFFtQU",
        "colab": {
          "base_uri": "https://localhost:8080/"
        },
        "outputId": "1492622b-9cfa-4e48-9614-034f97768b95"
      },
      "execution_count": 208,
      "outputs": [
        {
          "output_type": "stream",
          "name": "stdout",
          "text": [
            "Количество итераций на решение:  27\n",
            "Метод Зейделя:\n",
            "Решение:  [2.4702928331375302, 1.260925082572672, 0.9134526178986337, -2.1103661884119753, 2.9834352701920723]\n"
          ]
        }
      ]
    },
    {
      "cell_type": "code",
      "source": [
        "# метод наискорейшего спуска\n",
        "method_fastDescent = solution_fastDescent(A.tolist(), list(B.flatten()) )\n",
        "print( 'Метод наискорейшего спуска:\\nРешение: ',  method_fastDescent)"
      ],
      "metadata": {
        "id": "2jfKeGY-FhX3",
        "colab": {
          "base_uri": "https://localhost:8080/"
        },
        "outputId": "17fd4722-c6e6-47ff-ba87-e0e60578e884"
      },
      "execution_count": 209,
      "outputs": [
        {
          "output_type": "stream",
          "name": "stdout",
          "text": [
            "Количество итераций на решение:  51\n",
            "Метод наискорейшего спуска:\n",
            "Решение:  [ 2.47007196  1.26107582  0.91334999 -2.11036304  2.9834086 ]\n"
          ]
        }
      ]
    },
    {
      "cell_type": "code",
      "source": [
        "# метод минимальных невязок\n",
        "method_minErr = solution_minError(A.tolist(), list(B.flatten()) )\n",
        "print( 'Метод минимальных невязок:\\nРешение: ',  method_minErr)"
      ],
      "metadata": {
        "id": "dEiQg84SRFui",
        "colab": {
          "base_uri": "https://localhost:8080/"
        },
        "outputId": "036fc7d1-7395-48a7-b84b-a32059a57639"
      },
      "execution_count": 210,
      "outputs": [
        {
          "output_type": "stream",
          "name": "stdout",
          "text": [
            "Количество итераций на решение:  23\n",
            "Метод минимальных невязок:\n",
            "Решение:  [ 2.46990535  1.26140327  0.91294351 -2.10981129  2.98283054]\n"
          ]
        }
      ]
    },
    {
      "cell_type": "markdown",
      "source": [
        "Оценим число обусловленности СЛАУ."
      ],
      "metadata": {
        "id": "pQ9CaSI8Br3E"
      }
    },
    {
      "cell_type": "code",
      "source": [
        "mu = np.linalg.norm(np.linalg.inv(A)) * np.linalg.norm(B) / np.linalg.norm(method_run_through) \n",
        "print('Число обусловленности СЛАУ:', mu)"
      ],
      "metadata": {
        "colab": {
          "base_uri": "https://localhost:8080/"
        },
        "id": "lmtzs0jU_Y8n",
        "outputId": "33a60dfc-df9d-4818-f0fa-0bd8644199f1"
      },
      "execution_count": 211,
      "outputs": [
        {
          "output_type": "stream",
          "name": "stdout",
          "text": [
            "Число обусловленности СЛАУ: 4.446621224656659\n"
          ]
        }
      ]
    },
    {
      "cell_type": "code",
      "source": [],
      "metadata": {
        "id": "mOWLjGnKCikg"
      },
      "execution_count": 211,
      "outputs": []
    }
  ]
}