{
  "nbformat": 4,
  "nbformat_minor": 0,
  "metadata": {
    "colab": {
      "provenance": [],
      "authorship_tag": "ABX9TyNaYQPeZeNT3dxPZaT/XxUJ",
      "include_colab_link": true
    },
    "kernelspec": {
      "name": "python3",
      "display_name": "Python 3"
    },
    "language_info": {
      "name": "python"
    }
  },
  "cells": [
    {
      "cell_type": "markdown",
      "metadata": {
        "id": "view-in-github",
        "colab_type": "text"
      },
      "source": [
        "<a href=\"https://colab.research.google.com/github/Arseniy16/Computational_Math/blob/main/sem_6/Lab3.ipynb\" target=\"_parent\"><img src=\"https://colab.research.google.com/assets/colab-badge.svg\" alt=\"Open In Colab\"/></a>"
      ]
    },
    {
      "cell_type": "markdown",
      "source": [
        "# Лабораторная работа 3\n",
        "\n",
        "\n",
        "### Задание 1 (XI.9.2 б) из сборника Аристова, Завьялова, Лобанов, 2 часть)\n",
        "---\n",
        "\n",
        "### *Метод Стрельбы*\n",
        "#### Построить алгоритм метода пристрелки для вычисления следующей нелинейной задачи:\n",
        "$$\n",
        "\\begin{cases}\n",
        "    y'' - x \\sqrt{y} = 0, \\qquad 0 \\le x \\le 1, \\\\\n",
        "    y(0) = 0, \\quad \\int_0^1 y(x)dx = 1.\n",
        "\\end{cases}\n",
        "$$\n",
        "\n",
        "---\n",
        "\n",
        "#### *Теоретические сведения*\n",
        "\n",
        "Пусть необходимо решить краевую задачу вида:\n",
        "\n",
        "$$\n",
        "\\begin{cases}\n",
        "y'' = f(x, y, y') \\\\\n",
        "y(0) = y_0 \\\\\n",
        "y(L) = y_1\n",
        "\\end{cases}\n",
        "$$\n",
        "\n",
        "Рассмотрим вспомогательную задачу для решения данной краевой задачи: \n",
        "\n",
        "$$\n",
        "\\begin{cases}\n",
        "y'' = f(x, y, y') \\\\\n",
        "y(0) = y_0 \\\\\n",
        "y'(0) = \\alpha\n",
        "\\end{cases}\n",
        "$$\n",
        "\n",
        "где $\\alpha$ -- некоторое число( _пристрелочный параметр_).\n",
        "\n",
        "Для численного решения \n",
        "полученной задачи Коши, понизим порядок системы:\n",
        "\n",
        "$$\n",
        "\\begin{cases}\n",
        "u' = f(x, y, u) \\\\\n",
        "y' = u \\\\\n",
        "y(0) = y_0 \\\\\n",
        "u(0) = \\alpha\n",
        "\\end{cases}\n",
        "$$\n",
        "\n",
        "Решая данную численную задачу одим, из известных методов (например, методами Рунге-Куты), получим\n",
        "численное решение $y(x, \\alpha)$. \n",
        "\n",
        "Возвращаясь к изначальной задаче и рассматривая условие на правой \n",
        "границе (в точке $L$), получим уравнение\n",
        "\n",
        "$$\n",
        "F(\\alpha) = y(x, \\alpha) - y_1 = 0\n",
        "$$\n",
        "\n",
        "Все, что нам остается - подобрать такой параметр $\\alpha$, чтобы данное выражение превратилось в \n",
        "тождество, иначе, решить данное, в общем случае, нелинейное уравнение."
      ],
      "metadata": {
        "id": "1QeJ646dHPDa"
      }
    },
    {
      "cell_type": "code",
      "execution_count": 96,
      "metadata": {
        "id": "Tns3x1KDDlKm"
      },
      "outputs": [],
      "source": [
        "import math\n",
        "from pickle import TRUE\n",
        "import numpy as np\n",
        "import matplotlib.pyplot as plt\n",
        "%matplotlib inline"
      ]
    },
    {
      "cell_type": "code",
      "source": [
        "# вычисление правой части ОДУ\n",
        "def func(x, Y):\n",
        "    y, v = Y \n",
        "    # print('y =', y, 'v = ', v, '\\n')\n",
        "    return np.array([v, x * np.sqrt(y)])\n"
      ],
      "metadata": {
        "id": "zbwomQw7CETi"
      },
      "execution_count": 97,
      "outputs": []
    },
    {
      "cell_type": "code",
      "source": [
        "# Метод Рунге-Кутты 4-порядка\n",
        "def rk4(f, tau, t, u):\n",
        "    k1 = f(t, u)\n",
        "    k2 = f(t + tau/2, u + tau/2*k1)\n",
        "    k3 = f(t + tau/2, u + tau/2*k2)\n",
        "    k4 = f(t + tau  , u + tau*k3)\n",
        "    return u + tau * (k1 + 2*k2 + 2*k3 + k4)/6\n",
        "    \n",
        "rk4.order = 4; rk4.name = 'Классический метод РК 4 порядка'"
      ],
      "metadata": {
        "id": "_Gq8fSG9GDCe"
      },
      "execution_count": 98,
      "outputs": []
    },
    {
      "cell_type": "code",
      "source": [
        "def fixed_stepsize(f, y0, tmax, method, tau=0.001, verbose=False):\n",
        "    t = 0; u = y0\n",
        "    T = [0]; Y = [y0]\n",
        "    integral_sum = 0\n",
        "    # u_old = 0\n",
        "    name = method.name\n",
        "    flag = 0\n",
        "    \n",
        "    while t < tmax:\n",
        "        \n",
        "        # Если последний шаг выхдит за tmax - уменьшаем tau\n",
        "        if t + tau > tmax: \n",
        "            tau = tmax - t\n",
        "            flag = 1\n",
        "\n",
        "        u_old = u\n",
        "        u = method(f, tau, t, u)\n",
        "        \n",
        "        if (flag != 1):\n",
        "            integral_sum += (u[0] + u_old[0]) / 2 * tau\n",
        "        \n",
        "        t += tau\n",
        "        T.append(t)\n",
        "        Y.append(u)\n",
        "        # print('T = ', t, '\\n')\n",
        "\n",
        "    if verbose:\n",
        "        print('%s, всего шагов: %d'%(name, len(T)-1))\n",
        "    return integral_sum, np.array(T), np.array(Y)"
      ],
      "metadata": {
        "id": "sZUmTflVGD3f"
      },
      "execution_count": 99,
      "outputs": []
    },
    {
      "cell_type": "code",
      "source": [
        "# coefficients\n",
        "eps = 1e-4\n",
        "sum = 0\n",
        "\n",
        "x0 = 0\n",
        "y0 = 0\n",
        "v0 = 1.5\n",
        "b = 1 \n",
        "# ---------------\n",
        "\n",
        "# calculate the correct paramter\n",
        "while(True):\n",
        "    start = np.array([y0, v0]) \n",
        "    sum = 0\n",
        "\n",
        "    sum, X, Y = fixed_stepsize(func, start, b, rk4)\n",
        "    # print('temp_sum = ', sum, '\\n') # just to debug\n",
        "\n",
        "    v0 += 10 * eps\n",
        "    if (abs(sum - 1.0) < eps):\n",
        "        print('Total Sum = ', sum, '\\n')\n",
        "        # print('X= ', X, ', Y = ', Y, '\\n') just to debug\n",
        "        break\n",
        "    \n",
        "print(\"\\u03B1 = \", v0)"
      ],
      "metadata": {
        "colab": {
          "base_uri": "https://localhost:8080/"
        },
        "id": "4vFhXdQfQAGp",
        "outputId": "0f97931b-c21d-45f0-9b85-e3c9b22ff11d"
      },
      "execution_count": 100,
      "outputs": [
        {
          "output_type": "stream",
          "name": "stdout",
          "text": [
            "Total Sum =  0.9999886279752582 \n",
            "\n",
            "α =  1.9339999999999522\n"
          ]
        }
      ]
    },
    {
      "cell_type": "markdown",
      "source": [
        "Таким образом получаем, что наш параметр **α ≈ 1,93**, при котором выполняется одно из краевых условий: $\\quad \\int_0^1 y(x)dx = 1$"
      ],
      "metadata": {
        "id": "GNxYRzrltJG1"
      }
    },
    {
      "cell_type": "code",
      "source": [
        "# function to plot graph\n",
        "def plot(x, y):\n",
        "    \n",
        "    fig = plt.figure(figsize = (6, 6))\n",
        "    plt.title('График решения краевой задачи')\n",
        "\n",
        "    y, c = y.T\n",
        "    plt.plot(x, y)\n",
        "    \n",
        "    plt.text(0.0, 1.7, f'Sum = {sum}\\n' + f'param = {v0}', size = 12)\n",
        "    \n",
        "    plt.ylabel('y')\n",
        "    plt.xlabel('x')\n",
        "    plt.grid()\n",
        "    plt.show()\n"
      ],
      "metadata": {
        "id": "6wLfMbW_AZrB"
      },
      "execution_count": 101,
      "outputs": []
    },
    {
      "cell_type": "code",
      "source": [
        "# for graphics\n",
        "plot(X, Y)"
      ],
      "metadata": {
        "colab": {
          "base_uri": "https://localhost:8080/",
          "height": 564
        },
        "id": "K6rH789wTnCl",
        "outputId": "37d545ff-0453-4305-b147-784ea8bffa6b"
      },
      "execution_count": 102,
      "outputs": [
        {
          "output_type": "display_data",
          "data": {
            "text/plain": [
              "<Figure size 600x600 with 1 Axes>"
            ],
            "image/png": "[encoded data removed]"
          },
          "metadata": {}
        }
      ]
    }
  ]
}